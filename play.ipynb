{
 "metadata": {
  "language_info": {
   "codemirror_mode": {
    "name": "ipython",
    "version": 3
   },
   "file_extension": ".py",
   "mimetype": "text/x-python",
   "name": "python",
   "nbconvert_exporter": "python",
   "pygments_lexer": "ipython3",
   "version": "3.8.5-final"
  },
  "orig_nbformat": 2,
  "kernelspec": {
   "name": "Python 3.8.5 64-bit",
   "display_name": "Python 3.8.5 64-bit",
   "metadata": {
    "interpreter": {
     "hash": "aee8b7b246df8f9039afb4144a1f6fd8d2ca17a180786b69acc140d282b71a49"
    }
   }
  }
 },
 "nbformat": 4,
 "nbformat_minor": 2,
 "cells": [
  {
   "cell_type": "code",
   "execution_count": 1,
   "metadata": {},
   "outputs": [
    {
     "output_type": "stream",
     "name": "stdout",
     "text": [
      "WARNING:tensorflow:From /usr/local/lib/python3.8/site-packages/tensorflow/python/keras/layers/local.py:775: sparse_mat_mul (from tensorflow.python.ops.gen_math_ops) is deprecated and will be removed in a future version.\n",
      "Instructions for updating:\n",
      "Use `tf.linalg.matmul` instead\n",
      "WARNING:tensorflow:Skipping loading of weights for layer locally_connected2d due to mismatch in shape ((10, 10, 33, 10, 10, 1) vs (33, 10, 10, 1, 10, 10)).\n"
     ]
    }
   ],
   "source": [
    "import gym\n",
    "import gym_battleship1\n",
    "\n",
    "import tensorflow as tf\n",
    "import h5py\n",
    "import numpy as np\n",
    "\n",
    "import tensorflow.keras.losses\n",
    "tensorflow.keras.losses.custom_loss = tf.nn.sigmoid_cross_entropy_with_logits\n",
    "\n",
    "tf.keras.backend.set_image_data_format('channels_last')\n",
    "from customs import customAccuracy, buildModel\n",
    "\n",
    "from matplotlib import pyplot\n",
    "\n",
    "env = gym.make('battleship1-v1')\n",
    "env.reset()\n",
    "\n",
    "# model.summary()\n",
    "model = buildModel()\n",
    "model.load_weights('saved_model/leviathan.h5', skip_mismatch=True, by_name=True) #unec?\n",
    "weights = h5py.File('saved_model/leviathan.h5', 'r')\n",
    "if tensorflow.keras.backend.image_data_format() == \"channels_last\":\n",
    "\tLCWeights = weights['model_weights']['locally_connected2d']['locally_connected2d']\n",
    "\tunrolled = LCWeights['kernel:0'][()]\n",
    "\tLCKern = np.array(unrolled)\n",
    "\tLCKern = np.transpose(LCKern, [1,2,0,3,4,5])\n",
    "\tLCKern = np.transpose(LCKern, [0,1,2,4,5,3])\n",
    "\tLCWeights = [LCKern, LCWeights['bias:0'][()]]\n",
    "\tmodel.layers[-2].set_weights(LCWeights)\n",
    "\n",
    "# displayKernel(-2)\n",
    "def scaler(x):\n",
    "\tif x.value[1] == \"!M!\":\n",
    "\t\treturn -2\n",
    "\telif '(' in x.value[1]:\n",
    "\t\treturn 2\n",
    "\treturn x.value[0]\n",
    "\n",
    "vfunc = np.vectorize(scaler)\n",
    "def heatMap(y_preds, state=None):\n",
    "# \tpyplot.close()\n",
    "\ty_preds = np.reshape(y_preds, (10,10))\n",
    "\tax = pyplot.subplot(1,2,1)\n",
    "\tpyplot.imshow(y_preds, cmap='gray')\n",
    "\tif state is not None:\n",
    "\t\tbx = pyplot.subplot(1,2,2)\n",
    "\t\tx = np.array(state)\n",
    "\t\tx = np.sum(x, axis=0 if tensorflow.keras.backend.image_data_format() == \"channels_first\" else -1)\n",
    "\t\tpyplot.imshow(x, cmap='gray', vmin=-1, vmax=1)\n",
    "\tpyplot.show()"
   ]
  },
  {
   "cell_type": "code",
   "execution_count": 2,
   "metadata": {},
   "outputs": [
    {
     "output_type": "error",
     "ename": "TypeError",
     "evalue": "list indices must be integers or slices, not tuple",
     "traceback": [
      "\u001b[0;31m---------------------------------------------------------------------------\u001b[0m",
      "\u001b[0;31mTypeError\u001b[0m                                 Traceback (most recent call last)",
      "\u001b[0;32m<ipython-input-2-f363a283e6b9>\u001b[0m in \u001b[0;36m<module>\u001b[0;34m\u001b[0m\n\u001b[1;32m      1\u001b[0m sitRepA = [\n\u001b[0;32m----> 2\u001b[0;31m     \u001b[0;34m[\u001b[0m\u001b[0;36m0\u001b[0m\u001b[0;34m,\u001b[0m\u001b[0;36m0\u001b[0m\u001b[0;34m,\u001b[0m\u001b[0;36m0\u001b[0m\u001b[0;34m,\u001b[0m\u001b[0;36m0\u001b[0m\u001b[0;34m,\u001b[0m\u001b[0;36m0\u001b[0m\u001b[0;34m,\u001b[0m\u001b[0;36m0\u001b[0m\u001b[0;34m,\u001b[0m\u001b[0;36m0\u001b[0m\u001b[0;34m,\u001b[0m\u001b[0;36m0\u001b[0m\u001b[0;34m,\u001b[0m\u001b[0;36m0\u001b[0m\u001b[0;34m,\u001b[0m\u001b[0;36m0\u001b[0m\u001b[0;34m]\u001b[0m \u001b[0;31m#A\u001b[0m\u001b[0;34m\u001b[0m\u001b[0;34m\u001b[0m\u001b[0m\n\u001b[0m\u001b[1;32m      3\u001b[0m     \u001b[0;34m[\u001b[0m\u001b[0;36m0\u001b[0m\u001b[0;34m,\u001b[0m\u001b[0;36m0\u001b[0m\u001b[0;34m,\u001b[0m\u001b[0;36m0\u001b[0m\u001b[0;34m,\u001b[0m\u001b[0;36m0\u001b[0m\u001b[0;34m,\u001b[0m\u001b[0;36m0\u001b[0m\u001b[0;34m,\u001b[0m\u001b[0;36m0\u001b[0m\u001b[0;34m,\u001b[0m\u001b[0;36m0\u001b[0m\u001b[0;34m,\u001b[0m\u001b[0;36m0\u001b[0m\u001b[0;34m,\u001b[0m\u001b[0;36m0\u001b[0m\u001b[0;34m,\u001b[0m\u001b[0;36m0\u001b[0m\u001b[0;34m]\u001b[0m \u001b[0;31m#B\u001b[0m\u001b[0;34m\u001b[0m\u001b[0;34m\u001b[0m\u001b[0m\n\u001b[1;32m      4\u001b[0m     \u001b[0;34m[\u001b[0m\u001b[0;36m0\u001b[0m\u001b[0;34m,\u001b[0m\u001b[0;36m0\u001b[0m\u001b[0;34m,\u001b[0m\u001b[0;36m0\u001b[0m\u001b[0;34m,\u001b[0m\u001b[0;36m0\u001b[0m\u001b[0;34m,\u001b[0m\u001b[0;36m0\u001b[0m\u001b[0;34m,\u001b[0m\u001b[0;36m0\u001b[0m\u001b[0;34m,\u001b[0m\u001b[0;36m0\u001b[0m\u001b[0;34m,\u001b[0m\u001b[0;36m0\u001b[0m\u001b[0;34m,\u001b[0m\u001b[0;36m0\u001b[0m\u001b[0;34m,\u001b[0m\u001b[0;36m0\u001b[0m\u001b[0;34m]\u001b[0m \u001b[0;31m#C\u001b[0m\u001b[0;34m\u001b[0m\u001b[0;34m\u001b[0m\u001b[0m\n\u001b[1;32m      5\u001b[0m     \u001b[0;34m[\u001b[0m\u001b[0;36m0\u001b[0m\u001b[0;34m,\u001b[0m\u001b[0;36m0\u001b[0m\u001b[0;34m,\u001b[0m\u001b[0;36m0\u001b[0m\u001b[0;34m,\u001b[0m\u001b[0;36m0\u001b[0m\u001b[0;34m,\u001b[0m\u001b[0;36m0\u001b[0m\u001b[0;34m,\u001b[0m\u001b[0;36m0\u001b[0m\u001b[0;34m,\u001b[0m\u001b[0;36m0\u001b[0m\u001b[0;34m,\u001b[0m\u001b[0;36m0\u001b[0m\u001b[0;34m,\u001b[0m\u001b[0;36m0\u001b[0m\u001b[0;34m,\u001b[0m\u001b[0;36m0\u001b[0m\u001b[0;34m]\u001b[0m \u001b[0;31m#D\u001b[0m\u001b[0;34m\u001b[0m\u001b[0;34m\u001b[0m\u001b[0m\n",
      "\u001b[0;31mTypeError\u001b[0m: list indices must be integers or slices, not tuple"
     ]
    }
   ],
   "source": [
    "sitRepA = [\n",
    "    [0,0,0,0,0,0,0,0,0,0], #A\n",
    "    [0,0,0,0,0,0,0,0,0,0], #B\n",
    "    [0,0,0,0,0,0,0,0,0,0], #C\n",
    "    [0,0,0,0,0,0,0,0,0,0], #D\n",
    "    [0,0,0,0,0,0,0,0,0,0], #E\n",
    "    [0,0,0,0,0,0,0,0,0,0], #F\n",
    "    [0,0,0,0,0,0,0,0,0,0], #G\n",
    "    [0,0,0,0,0,0,0,0,0,0], #H\n",
    "    [0,0,0,0,0,0,0,0,0,0], #I\n",
    "    [0,0,0,0,0,0,0,0,0,0], #J\n",
    "]\n",
    "sitRepB = [\n",
    "    [0,0,0,0,0,0,0,0,0,0], #A\n",
    "    [0,0,0,0,0,0,0,0,0,0], #B\n",
    "    [0,0,0,0,0,0,0,0,0,0], #C\n",
    "    [0,0,0,0,0,0,0,0,0,0], #D\n",
    "    [0,0,0,0,0,0,0,0,0,0], #E\n",
    "    [0,0,0,0,0,0,0,0,0,0], #F\n",
    "    [0,0,0,0,0,0,0,0,0,0], #G\n",
    "    [0,0,0,0,0,0,0,0,0,0], #H\n",
    "    [0,0,0,0,0,0,0,0,0,0], #I\n",
    "    [0,0,0,0,0,0,0,0,0,0], #J\n",
    "]\n",
    "# sitRep = [\n",
    "#     [0,0,0,0,0,0,0,0,0,0], #A\n",
    "#     [0,0,0,0,0,0,0,0,0,0], #B\n",
    "#     [0,0,0,0,0,0,0,0,0,0], #C\n",
    "#     [0,0,0,0,0,0,0,0,0,0], #D\n",
    "#     [0,0,0,0,0,0,0,0,0,0], #E\n",
    "#     [0,0,0,0,0,0,0,0,0,0], #F\n",
    "#     [0,0,0,0,0,0,0,0,0,0], #G\n",
    "#     [0,0,0,0,0,0,0,0,0,0], #H\n",
    "#     [0,0,0,0,0,0,0,0,0,0], #I\n",
    "#     [0,0,0,0,0,0,0,0,0,0], #J\n",
    "# ]\n",
    "obs = tf.convert_to_tensor([[sitRepA, sitRepB]])\n",
    "if tensorflow.keras.backend.image_data_format() == \"channels_last\":\n",
    "    obs = tf.transpose(obs, [0,2,3,1])\n",
    "preds = model.predict(obs)\n",
    "heatMap(preds, obs.numpy()[0])\n",
    "topK = tf.math.top_k(preds, k=3)\n",
    "print(topK)\n",
    "k = tf.argmax(preds,-1).numpy()[0]\n",
    "if k // 10 == 0:\n",
    "    print('A' + str((k % 10) + 1))\n",
    "elif k // 10 == 1:\n",
    "    print('B' + str((k % 10) + 1))\n",
    "elif k // 10 == 2:\n",
    "    print('C' + str((k % 10) + 1))\n",
    "elif k // 10 == 3:\n",
    "    print('D' + str((k % 10) + 1))\n",
    "elif k // 10 == 4:\n",
    "    print('E' + str((k % 10) + 1))\n",
    "elif k // 10 == 5:\n",
    "    print('F' + str((k % 10) + 1))\n",
    "elif k // 10 == 6:\n",
    "    print('G' + str((k % 10) + 1))\n",
    "elif k // 10 == 7:\n",
    "    print('H' + str((k % 10) + 1))\n",
    "elif k // 10 == 8:\n",
    "    print('I' + str((k % 10) + 1))\n",
    "elif k // 10 == 9:\n",
    "    print('J' + str((k % 10) + 1))"
   ]
  },
  {
   "cell_type": "code",
   "execution_count": null,
   "metadata": {},
   "outputs": [],
   "source": []
  }
 ]
}