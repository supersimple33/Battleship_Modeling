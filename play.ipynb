{
 "metadata": {
  "language_info": {
   "codemirror_mode": {
    "name": "ipython",
    "version": 3
   },
   "file_extension": ".py",
   "mimetype": "text/x-python",
   "name": "python",
   "nbconvert_exporter": "python",
   "pygments_lexer": "ipython3",
   "version": "3.8.5-final"
  },
  "orig_nbformat": 2,
  "kernelspec": {
   "name": "Python 3.8.5 64-bit",
   "display_name": "Python 3.8.5 64-bit",
   "metadata": {
    "interpreter": {
     "hash": "aee8b7b246df8f9039afb4144a1f6fd8d2ca17a180786b69acc140d282b71a49"
    }
   }
  }
 },
 "nbformat": 4,
 "nbformat_minor": 2,
 "cells": [
  {
   "cell_type": "code",
   "execution_count": 1,
   "metadata": {},
   "outputs": [
    {
     "output_type": "stream",
     "name": "stdout",
     "text": [
      "WARNING:tensorflow:From /usr/local/lib/python3.8/site-packages/tensorflow/python/keras/layers/local.py:775: sparse_mat_mul (from tensorflow.python.ops.gen_math_ops) is deprecated and will be removed in a future version.\n",
      "Instructions for updating:\n",
      "Use `tf.linalg.matmul` instead\n",
      "WARNING:tensorflow:Skipping loading of weights for layer locally_connected2d due to mismatch in shape ((10, 10, 33, 10, 10, 1) vs (33, 10, 10, 1, 10, 10)).\n"
     ]
    }
   ],
   "source": [
    "import gym\n",
    "import gym_battleship1\n",
    "\n",
    "import tensorflow as tf\n",
    "import h5py\n",
    "import numpy as np\n",
    "\n",
    "import tensorflow.keras.losses\n",
    "tensorflow.keras.losses.custom_loss = tf.nn.sigmoid_cross_entropy_with_logits\n",
    "\n",
    "tf.keras.backend.set_image_data_format('channels_last')\n",
    "from customs import customAccuracy, buildModel\n",
    "\n",
    "from matplotlib import pyplot\n",
    "\n",
    "env = gym.make('battleship1-v1')\n",
    "env.reset()\n",
    "\n",
    "# model.summary()\n",
    "model = buildModel()\n",
    "model.load_weights('saved_model/leviathan.h5', skip_mismatch=True, by_name=True) #unec?\n",
    "weights = h5py.File('saved_model/leviathan.h5', 'r')\n",
    "if tensorflow.keras.backend.image_data_format() == \"channels_last\":\n",
    "\tLCWeights = weights['model_weights']['locally_connected2d']['locally_connected2d']\n",
    "\tunrolled = LCWeights['kernel:0'][()]\n",
    "\tLCKern = np.array(unrolled)\n",
    "\tLCKern = np.transpose(LCKern, [1,2,0,3,4,5])\n",
    "\tLCKern = np.transpose(LCKern, [0,1,2,4,5,3])\n",
    "\tLCWeights = [LCKern, LCWeights['bias:0'][()]]\n",
    "\tmodel.layers[-2].set_weights(LCWeights)\n",
    "\n",
    "# displayKernel(-2)\n",
    "def scaler(x):\n",
    "\tif x.value[1] == \"!M!\":\n",
    "\t\treturn -2\n",
    "\telif '(' in x.value[1]:\n",
    "\t\treturn 2\n",
    "\treturn x.value[0]\n",
    "\n",
    "vfunc = np.vectorize(scaler)\n",
    "def heatMap(y_preds, state=None):\n",
    "# \tpyplot.close()\n",
    "\ty_preds = np.reshape(y_preds, (10,10))\n",
    "\tax = pyplot.subplot(1,2,1)\n",
    "\tpyplot.imshow(y_preds, cmap='gray')\n",
    "\tif state is not None:\n",
    "\t\tbx = pyplot.subplot(1,2,2)\n",
    "\t\tx = np.array(state)\n",
    "\t\tx = np.sum(x, axis=0 if tensorflow.keras.backend.image_data_format() == \"channels_first\" else -1)\n",
    "\t\tpyplot.imshow(x, cmap='gray', vmin=-1, vmax=1)\n",
    "\tpyplot.show()"
   ]
  },
  {
   "cell_type": "code",
   "execution_count": 56,
   "metadata": {},
   "outputs": [
    {
     "output_type": "display_data",
     "data": {
      "text/plain": "<Figure size 432x288 with 2 Axes>",
      "image/svg+xml": "<?xml version=\"1.0\" encoding=\"utf-8\" standalone=\"no\"?>\n<!DOCTYPE svg PUBLIC \"-//W3C//DTD SVG 1.1//EN\"\n  \"http://www.w3.org/Graphics/SVG/1.1/DTD/svg11.dtd\">\n<!-- Created with matplotlib (https://matplotlib.org/) -->\n<svg height=\"183.259943pt\" version=\"1.1\" viewBox=\"0 0 362.5625 183.259943\" width=\"362.5625pt\" xmlns=\"http://www.w3.org/2000/svg\" xmlns:xlink=\"http://www.w3.org/1999/xlink\">\n <metadata>\n  <rdf:RDF xmlns:cc=\"http://creativecommons.org/ns#\" xmlns:dc=\"http://purl.org/dc/elements/1.1/\" xmlns:rdf=\"http://www.w3.org/1999/02/22-rdf-syntax-ns#\">\n   <cc:Work>\n    <dc:type rdf:resource=\"http://purl.org/dc/dcmitype/StillImage\"/>\n    <dc:date>2020-10-19T20:15:53.002976</dc:date>\n    <dc:format>image/svg+xml</dc:format>\n    <dc:creator>\n     <cc:Agent>\n      <dc:title>Matplotlib v3.3.1, https://matplotlib.org/</dc:title>\n     </cc:Agent>\n    </dc:creator>\n   </cc:Work>\n  </rdf:RDF>\n </metadata>\n <defs>\n  <style type=\"text/css\">*{stroke-linecap:butt;stroke-linejoin:round;}</style>\n </defs>\n <g id=\"figure_1\">\n  <g id=\"patch_1\">\n   <path d=\"M 0 183.259943 \nL 362.5625 183.259943 \nL 362.5625 0 \nL 0 0 \nz\n\" style=\"fill:none;\"/>\n  </g>\n  <g id=\"axes_1\">\n   <g id=\"patch_2\">\n    <path d=\"M 20.5625 159.381818 \nL 172.744318 159.381818 \nL 172.744318 7.2 \nL 20.5625 7.2 \nz\n\" style=\"fill:#ffffff;\"/>\n   </g>\n   <g clip-path=\"url(#pa13d1a7d61)\">\n    <image height=\"153\" id=\"image71576620e7\" transform=\"scale(1 -1)translate(0 -153)\" width=\"153\" x=\"20.5625\" xlink:href=\"data:image/png;base64,\niVBORw0KGgoAAAANSUhEUgAAAJkAAACZCAYAAAA8XJi6AAADwUlEQVR4nO3dO0qzWxhH8efVSCBC4qVRQSwEbQRtBQVHYC3iVLSwcgKClpYOwE4QxMZGG2+FnUQFbyiCEi/nTOHj2Sy+A2f9+j8bwmJXmzfV4ODgP5HU29ubnUZERKfTSW8HBgbS26urq/S2p6cnvY2I6O7uTm+bzWZ629XVld5GRHx+fubPLjpZ+gNGJpyRCWdkwhmZcEYmnJEJZ2TCGZlwRiackQlnZMIZmXBGJlw1NjaWfupzd3dXdPjo6Gh6W3L219dXeru0tJTeRkTs7u6mt9/f3+ltvV5PbyMiFhcX01tvMuGMTDgjE87IhDMy4YxMOCMTzsiEMzLhjEw4IxPOyIQzMuGMTDgjE67a3NxMvydbXV0tOvzt7S29HRkZSW/v7+/T276+vvQ2ImJvby+9XVlZSW8fHx/T24iyT155kwlnZMIZmXBGJpyRCWdkwhmZcEYmnJEJZ2TCGZlwRiackQlnZMLVGo1Gejw1NVV0+O/vb3p7dHSU3lZVld4+Pz+ntxER6+vr6W273U5vPz4+0tuIiP7+/vTWm0w4IxPOyIQzMuGMTDgjE87IhDMy4YxMOCMTzsiEMzLhjEw4IxOuWlhYSH/V5/z8vOjw6enp9Pbg4CC9/fn5SW9LnzeV/Ga1Wi29LfmHuQi/6qP/OCMTzsiEMzLhjEw4IxPOyIQzMuGMTDgjE87IhDMy4YxMOCMTzsiEq83NzaXHh4eHRYfv7++ntyXvui4uLtLb+fn59DYi4vLyMr0tedN1dnaW3kZEzM7OprfeZMIZmXBGJpyRCWdkwhmZcEYmnJEJZ2TCGZlwRiackQlnZMIZmXC1p6en9LjVahUd/vLykt6WfIJpcnIyvd3e3k5vIyJmZmbS29PT0/R2a2srvY2IeH9/T2+9yYQzMuGMTDgjE87IhDMy4YxMOCMTzsiEMzLhjEw4IxPOyIQzMuGqer2e/pe4ZrNZdHin00lvh4eH09vr6+v0tvTf1kq+RtRoNNLbkqc6ERE3NzfprTeZcEYmnJEJZ2TCGZlwRiackQlnZMIZmXBGJpyRCWdkwhmZcEYmXNVqtdJPfcbHx4sOPzk5Kdr/35Q8rXp9fS06e3l5Ob31JhPOyIQzMuGMTDgjE87IhDMy4YxMOCMTzsiEMzLhjEw4IxPOyIQzMuGqoaGhv/aebGJiIr09Pj5Ob3d2dtLbjY2N9DYiot1up7e3t7fp7cPDQ3obEbG2tpbeepMJZ2TCGZlwRiackQlnZMIZmXBGJpyRCWdkwhmZcEYmnJEJZ2TC/QuLs5c+T+6tagAAAABJRU5ErkJggg==\" y=\"-6.381818\"/>\n   </g>\n   <g id=\"matplotlib.axis_1\">\n    <g id=\"xtick_1\">\n     <g id=\"line2d_1\">\n      <defs>\n       <path d=\"M 0 0 \nL 0 3.5 \n\" id=\"m52d401edeb\" style=\"stroke:#000000;stroke-width:0.8;\"/>\n      </defs>\n      <g>\n       <use style=\"stroke:#000000;stroke-width:0.8;\" x=\"28.171591\" xlink:href=\"#m52d401edeb\" y=\"159.381818\"/>\n      </g>\n     </g>\n     <g id=\"text_1\">\n      <!-- 0 -->\n      <g transform=\"translate(24.990341 173.980256)scale(0.1 -0.1)\">\n       <defs>\n        <path d=\"M 31.78125 66.40625 \nQ 24.171875 66.40625 20.328125 58.90625 \nQ 16.5 51.421875 16.5 36.375 \nQ 16.5 21.390625 20.328125 13.890625 \nQ 24.171875 6.390625 31.78125 6.390625 \nQ 39.453125 6.390625 43.28125 13.890625 \nQ 47.125 21.390625 47.125 36.375 \nQ 47.125 51.421875 43.28125 58.90625 \nQ 39.453125 66.40625 31.78125 66.40625 \nz\nM 31.78125 74.21875 \nQ 44.046875 74.21875 50.515625 64.515625 \nQ 56.984375 54.828125 56.984375 36.375 \nQ 56.984375 17.96875 50.515625 8.265625 \nQ 44.046875 -1.421875 31.78125 -1.421875 \nQ 19.53125 -1.421875 13.0625 8.265625 \nQ 6.59375 17.96875 6.59375 36.375 \nQ 6.59375 54.828125 13.0625 64.515625 \nQ 19.53125 74.21875 31.78125 74.21875 \nz\n\" id=\"DejaVuSans-48\"/>\n       </defs>\n       <use xlink:href=\"#DejaVuSans-48\"/>\n      </g>\n     </g>\n    </g>\n    <g id=\"xtick_2\">\n     <g id=\"line2d_2\">\n      <g>\n       <use style=\"stroke:#000000;stroke-width:0.8;\" x=\"58.607955\" xlink:href=\"#m52d401edeb\" y=\"159.381818\"/>\n      </g>\n     </g>\n     <g id=\"text_2\">\n      <!-- 2 -->\n      <g transform=\"translate(55.426705 173.980256)scale(0.1 -0.1)\">\n       <defs>\n        <path d=\"M 19.1875 8.296875 \nL 53.609375 8.296875 \nL 53.609375 0 \nL 7.328125 0 \nL 7.328125 8.296875 \nQ 12.9375 14.109375 22.625 23.890625 \nQ 32.328125 33.6875 34.8125 36.53125 \nQ 39.546875 41.84375 41.421875 45.53125 \nQ 43.3125 49.21875 43.3125 52.78125 \nQ 43.3125 58.59375 39.234375 62.25 \nQ 35.15625 65.921875 28.609375 65.921875 \nQ 23.96875 65.921875 18.8125 64.3125 \nQ 13.671875 62.703125 7.8125 59.421875 \nL 7.8125 69.390625 \nQ 13.765625 71.78125 18.9375 73 \nQ 24.125 74.21875 28.421875 74.21875 \nQ 39.75 74.21875 46.484375 68.546875 \nQ 53.21875 62.890625 53.21875 53.421875 \nQ 53.21875 48.921875 51.53125 44.890625 \nQ 49.859375 40.875 45.40625 35.40625 \nQ 44.1875 33.984375 37.640625 27.21875 \nQ 31.109375 20.453125 19.1875 8.296875 \nz\n\" id=\"DejaVuSans-50\"/>\n       </defs>\n       <use xlink:href=\"#DejaVuSans-50\"/>\n      </g>\n     </g>\n    </g>\n    <g id=\"xtick_3\">\n     <g id=\"line2d_3\">\n      <g>\n       <use style=\"stroke:#000000;stroke-width:0.8;\" x=\"89.044318\" xlink:href=\"#m52d401edeb\" y=\"159.381818\"/>\n      </g>\n     </g>\n     <g id=\"text_3\">\n      <!-- 4 -->\n      <g transform=\"translate(85.863068 173.980256)scale(0.1 -0.1)\">\n       <defs>\n        <path d=\"M 37.796875 64.3125 \nL 12.890625 25.390625 \nL 37.796875 25.390625 \nz\nM 35.203125 72.90625 \nL 47.609375 72.90625 \nL 47.609375 25.390625 \nL 58.015625 25.390625 \nL 58.015625 17.1875 \nL 47.609375 17.1875 \nL 47.609375 0 \nL 37.796875 0 \nL 37.796875 17.1875 \nL 4.890625 17.1875 \nL 4.890625 26.703125 \nz\n\" id=\"DejaVuSans-52\"/>\n       </defs>\n       <use xlink:href=\"#DejaVuSans-52\"/>\n      </g>\n     </g>\n    </g>\n    <g id=\"xtick_4\">\n     <g id=\"line2d_4\">\n      <g>\n       <use style=\"stroke:#000000;stroke-width:0.8;\" x=\"119.480682\" xlink:href=\"#m52d401edeb\" y=\"159.381818\"/>\n      </g>\n     </g>\n     <g id=\"text_4\">\n      <!-- 6 -->\n      <g transform=\"translate(116.299432 173.980256)scale(0.1 -0.1)\">\n       <defs>\n        <path d=\"M 33.015625 40.375 \nQ 26.375 40.375 22.484375 35.828125 \nQ 18.609375 31.296875 18.609375 23.390625 \nQ 18.609375 15.53125 22.484375 10.953125 \nQ 26.375 6.390625 33.015625 6.390625 \nQ 39.65625 6.390625 43.53125 10.953125 \nQ 47.40625 15.53125 47.40625 23.390625 \nQ 47.40625 31.296875 43.53125 35.828125 \nQ 39.65625 40.375 33.015625 40.375 \nz\nM 52.59375 71.296875 \nL 52.59375 62.3125 \nQ 48.875 64.0625 45.09375 64.984375 \nQ 41.3125 65.921875 37.59375 65.921875 \nQ 27.828125 65.921875 22.671875 59.328125 \nQ 17.53125 52.734375 16.796875 39.40625 \nQ 19.671875 43.65625 24.015625 45.921875 \nQ 28.375 48.1875 33.59375 48.1875 \nQ 44.578125 48.1875 50.953125 41.515625 \nQ 57.328125 34.859375 57.328125 23.390625 \nQ 57.328125 12.15625 50.6875 5.359375 \nQ 44.046875 -1.421875 33.015625 -1.421875 \nQ 20.359375 -1.421875 13.671875 8.265625 \nQ 6.984375 17.96875 6.984375 36.375 \nQ 6.984375 53.65625 15.1875 63.9375 \nQ 23.390625 74.21875 37.203125 74.21875 \nQ 40.921875 74.21875 44.703125 73.484375 \nQ 48.484375 72.75 52.59375 71.296875 \nz\n\" id=\"DejaVuSans-54\"/>\n       </defs>\n       <use xlink:href=\"#DejaVuSans-54\"/>\n      </g>\n     </g>\n    </g>\n    <g id=\"xtick_5\">\n     <g id=\"line2d_5\">\n      <g>\n       <use style=\"stroke:#000000;stroke-width:0.8;\" x=\"149.917045\" xlink:href=\"#m52d401edeb\" y=\"159.381818\"/>\n      </g>\n     </g>\n     <g id=\"text_5\">\n      <!-- 8 -->\n      <g transform=\"translate(146.735795 173.980256)scale(0.1 -0.1)\">\n       <defs>\n        <path d=\"M 31.78125 34.625 \nQ 24.75 34.625 20.71875 30.859375 \nQ 16.703125 27.09375 16.703125 20.515625 \nQ 16.703125 13.921875 20.71875 10.15625 \nQ 24.75 6.390625 31.78125 6.390625 \nQ 38.8125 6.390625 42.859375 10.171875 \nQ 46.921875 13.96875 46.921875 20.515625 \nQ 46.921875 27.09375 42.890625 30.859375 \nQ 38.875 34.625 31.78125 34.625 \nz\nM 21.921875 38.8125 \nQ 15.578125 40.375 12.03125 44.71875 \nQ 8.5 49.078125 8.5 55.328125 \nQ 8.5 64.0625 14.71875 69.140625 \nQ 20.953125 74.21875 31.78125 74.21875 \nQ 42.671875 74.21875 48.875 69.140625 \nQ 55.078125 64.0625 55.078125 55.328125 \nQ 55.078125 49.078125 51.53125 44.71875 \nQ 48 40.375 41.703125 38.8125 \nQ 48.828125 37.15625 52.796875 32.3125 \nQ 56.78125 27.484375 56.78125 20.515625 \nQ 56.78125 9.90625 50.3125 4.234375 \nQ 43.84375 -1.421875 31.78125 -1.421875 \nQ 19.734375 -1.421875 13.25 4.234375 \nQ 6.78125 9.90625 6.78125 20.515625 \nQ 6.78125 27.484375 10.78125 32.3125 \nQ 14.796875 37.15625 21.921875 38.8125 \nz\nM 18.3125 54.390625 \nQ 18.3125 48.734375 21.84375 45.5625 \nQ 25.390625 42.390625 31.78125 42.390625 \nQ 38.140625 42.390625 41.71875 45.5625 \nQ 45.3125 48.734375 45.3125 54.390625 \nQ 45.3125 60.0625 41.71875 63.234375 \nQ 38.140625 66.40625 31.78125 66.40625 \nQ 25.390625 66.40625 21.84375 63.234375 \nQ 18.3125 60.0625 18.3125 54.390625 \nz\n\" id=\"DejaVuSans-56\"/>\n       </defs>\n       <use xlink:href=\"#DejaVuSans-56\"/>\n      </g>\n     </g>\n    </g>\n   </g>\n   <g id=\"matplotlib.axis_2\">\n    <g id=\"ytick_1\">\n     <g id=\"line2d_6\">\n      <defs>\n       <path d=\"M 0 0 \nL -3.5 0 \n\" id=\"mcf2f98fd77\" style=\"stroke:#000000;stroke-width:0.8;\"/>\n      </defs>\n      <g>\n       <use style=\"stroke:#000000;stroke-width:0.8;\" x=\"20.5625\" xlink:href=\"#mcf2f98fd77\" y=\"14.809091\"/>\n      </g>\n     </g>\n     <g id=\"text_6\">\n      <!-- 0 -->\n      <g transform=\"translate(7.2 18.60831)scale(0.1 -0.1)\">\n       <use xlink:href=\"#DejaVuSans-48\"/>\n      </g>\n     </g>\n    </g>\n    <g id=\"ytick_2\">\n     <g id=\"line2d_7\">\n      <g>\n       <use style=\"stroke:#000000;stroke-width:0.8;\" x=\"20.5625\" xlink:href=\"#mcf2f98fd77\" y=\"45.245455\"/>\n      </g>\n     </g>\n     <g id=\"text_7\">\n      <!-- 2 -->\n      <g transform=\"translate(7.2 49.044673)scale(0.1 -0.1)\">\n       <use xlink:href=\"#DejaVuSans-50\"/>\n      </g>\n     </g>\n    </g>\n    <g id=\"ytick_3\">\n     <g id=\"line2d_8\">\n      <g>\n       <use style=\"stroke:#000000;stroke-width:0.8;\" x=\"20.5625\" xlink:href=\"#mcf2f98fd77\" y=\"75.681818\"/>\n      </g>\n     </g>\n     <g id=\"text_8\">\n      <!-- 4 -->\n      <g transform=\"translate(7.2 79.481037)scale(0.1 -0.1)\">\n       <use xlink:href=\"#DejaVuSans-52\"/>\n      </g>\n     </g>\n    </g>\n    <g id=\"ytick_4\">\n     <g id=\"line2d_9\">\n      <g>\n       <use style=\"stroke:#000000;stroke-width:0.8;\" x=\"20.5625\" xlink:href=\"#mcf2f98fd77\" y=\"106.118182\"/>\n      </g>\n     </g>\n     <g id=\"text_9\">\n      <!-- 6 -->\n      <g transform=\"translate(7.2 109.917401)scale(0.1 -0.1)\">\n       <use xlink:href=\"#DejaVuSans-54\"/>\n      </g>\n     </g>\n    </g>\n    <g id=\"ytick_5\">\n     <g id=\"line2d_10\">\n      <g>\n       <use style=\"stroke:#000000;stroke-width:0.8;\" x=\"20.5625\" xlink:href=\"#mcf2f98fd77\" y=\"136.554545\"/>\n      </g>\n     </g>\n     <g id=\"text_10\">\n      <!-- 8 -->\n      <g transform=\"translate(7.2 140.353764)scale(0.1 -0.1)\">\n       <use xlink:href=\"#DejaVuSans-56\"/>\n      </g>\n     </g>\n    </g>\n   </g>\n   <g id=\"patch_3\">\n    <path d=\"M 20.5625 159.381818 \nL 20.5625 7.2 \n\" style=\"fill:none;stroke:#000000;stroke-linecap:square;stroke-linejoin:miter;stroke-width:0.8;\"/>\n   </g>\n   <g id=\"patch_4\">\n    <path d=\"M 172.744318 159.381818 \nL 172.744318 7.2 \n\" style=\"fill:none;stroke:#000000;stroke-linecap:square;stroke-linejoin:miter;stroke-width:0.8;\"/>\n   </g>\n   <g id=\"patch_5\">\n    <path d=\"M 20.5625 159.381818 \nL 172.744318 159.381818 \n\" style=\"fill:none;stroke:#000000;stroke-linecap:square;stroke-linejoin:miter;stroke-width:0.8;\"/>\n   </g>\n   <g id=\"patch_6\">\n    <path d=\"M 20.5625 7.2 \nL 172.744318 7.2 \n\" style=\"fill:none;stroke:#000000;stroke-linecap:square;stroke-linejoin:miter;stroke-width:0.8;\"/>\n   </g>\n  </g>\n  <g id=\"axes_2\">\n   <g id=\"patch_7\">\n    <path d=\"M 203.180682 159.381818 \nL 355.3625 159.381818 \nL 355.3625 7.2 \nL 203.180682 7.2 \nz\n\" style=\"fill:#ffffff;\"/>\n   </g>\n   <g clip-path=\"url(#pf48c5fee45)\">\n    <image height=\"153\" id=\"image77e4bbc3a8\" transform=\"scale(1 -1)translate(0 -153)\" width=\"153\" x=\"203.180682\" xlink:href=\"data:image/png;base64,\niVBORw0KGgoAAAANSUhEUgAAAJkAAACZCAYAAAA8XJi6AAACaklEQVR4nO3d220iQRBA0WHlKJwGhAFpOA1PHE4DwoA0SGM3hdW0rpox5/yX2o+r+Wp1HdZ1/btMsq7rlNmvr6/Ns5+fn5tnR836e43O/xk6Gf6DyMiJjJzIyImMnMjIiYycyMiJjJzIyImMnMjIiYycyMgdlmV5u6s+z+dz8+zPz8/m2WUZv3Izi6s+vDSRkRMZOZGRExk5kZETGTmRkRMZOZGRExk5kZETGTmRkRMZuY+Re0Ln83no8NPptHl21r2smU8wHY/HzbOPx2Pz7LK4T8aLExk5kZETGTmRkRMZOZGRExk5kZETGTmRkRMZOZGRExm5j5mH73FL3F7ZEsevJjJyIiMnMnIiIycyciIjJzJyIiMnMnIiIycyciIjJzJyQ1vi7vf70OG3223z7Du+6nO9XjfPXi6XzbOjfMnIiYycyMiJjJzIyImMnMjIiYycyMiJjJzIyImMnMjIiYycyMgNbYkb2fI2atazUzON3Amb+Tv7kpETGTmRkRMZOZGRExk5kZETGTmRkRMZOZGRExk5kZETGbmhLXEzn1Ha4+zss0fYEsdLExk5kZETGTmRkRMZOZGRExk5kZETGTmRkRMZOZGRExm5oS1xo/a66W2PZ3vVh19NZORERk5k5ERGTmTkREZOZORERk5k5ERGTmTkREZOZOQO67pOu+rz/f096+hdOhwOm2dHr/qM/K98yciJjJzIyImMnMjIiYycyMiJjJzIyImMnMjIiYycyMiJjJzIyA09HbXXJ5je8eeeud3Ol4ycyMiJjJzIyImMnMjIiYycyMiJjJzIyImMnMjIiYycyMj9A9rJZWGlHo4XAAAAAElFTkSuQmCC\" y=\"-6.381818\"/>\n   </g>\n   <g id=\"matplotlib.axis_3\">\n    <g id=\"xtick_6\">\n     <g id=\"line2d_11\">\n      <g>\n       <use style=\"stroke:#000000;stroke-width:0.8;\" x=\"210.789773\" xlink:href=\"#m52d401edeb\" y=\"159.381818\"/>\n      </g>\n     </g>\n     <g id=\"text_11\">\n      <!-- 0 -->\n      <g transform=\"translate(207.608523 173.980256)scale(0.1 -0.1)\">\n       <use xlink:href=\"#DejaVuSans-48\"/>\n      </g>\n     </g>\n    </g>\n    <g id=\"xtick_7\">\n     <g id=\"line2d_12\">\n      <g>\n       <use style=\"stroke:#000000;stroke-width:0.8;\" x=\"241.226136\" xlink:href=\"#m52d401edeb\" y=\"159.381818\"/>\n      </g>\n     </g>\n     <g id=\"text_12\">\n      <!-- 2 -->\n      <g transform=\"translate(238.044886 173.980256)scale(0.1 -0.1)\">\n       <use xlink:href=\"#DejaVuSans-50\"/>\n      </g>\n     </g>\n    </g>\n    <g id=\"xtick_8\">\n     <g id=\"line2d_13\">\n      <g>\n       <use style=\"stroke:#000000;stroke-width:0.8;\" x=\"271.6625\" xlink:href=\"#m52d401edeb\" y=\"159.381818\"/>\n      </g>\n     </g>\n     <g id=\"text_13\">\n      <!-- 4 -->\n      <g transform=\"translate(268.48125 173.980256)scale(0.1 -0.1)\">\n       <use xlink:href=\"#DejaVuSans-52\"/>\n      </g>\n     </g>\n    </g>\n    <g id=\"xtick_9\">\n     <g id=\"line2d_14\">\n      <g>\n       <use style=\"stroke:#000000;stroke-width:0.8;\" x=\"302.098864\" xlink:href=\"#m52d401edeb\" y=\"159.381818\"/>\n      </g>\n     </g>\n     <g id=\"text_14\">\n      <!-- 6 -->\n      <g transform=\"translate(298.917614 173.980256)scale(0.1 -0.1)\">\n       <use xlink:href=\"#DejaVuSans-54\"/>\n      </g>\n     </g>\n    </g>\n    <g id=\"xtick_10\">\n     <g id=\"line2d_15\">\n      <g>\n       <use style=\"stroke:#000000;stroke-width:0.8;\" x=\"332.535227\" xlink:href=\"#m52d401edeb\" y=\"159.381818\"/>\n      </g>\n     </g>\n     <g id=\"text_15\">\n      <!-- 8 -->\n      <g transform=\"translate(329.353977 173.980256)scale(0.1 -0.1)\">\n       <use xlink:href=\"#DejaVuSans-56\"/>\n      </g>\n     </g>\n    </g>\n   </g>\n   <g id=\"matplotlib.axis_4\">\n    <g id=\"ytick_6\">\n     <g id=\"line2d_16\">\n      <g>\n       <use style=\"stroke:#000000;stroke-width:0.8;\" x=\"203.180682\" xlink:href=\"#mcf2f98fd77\" y=\"14.809091\"/>\n      </g>\n     </g>\n     <g id=\"text_16\">\n      <!-- 0 -->\n      <g transform=\"translate(189.818182 18.60831)scale(0.1 -0.1)\">\n       <use xlink:href=\"#DejaVuSans-48\"/>\n      </g>\n     </g>\n    </g>\n    <g id=\"ytick_7\">\n     <g id=\"line2d_17\">\n      <g>\n       <use style=\"stroke:#000000;stroke-width:0.8;\" x=\"203.180682\" xlink:href=\"#mcf2f98fd77\" y=\"45.245455\"/>\n      </g>\n     </g>\n     <g id=\"text_17\">\n      <!-- 2 -->\n      <g transform=\"translate(189.818182 49.044673)scale(0.1 -0.1)\">\n       <use xlink:href=\"#DejaVuSans-50\"/>\n      </g>\n     </g>\n    </g>\n    <g id=\"ytick_8\">\n     <g id=\"line2d_18\">\n      <g>\n       <use style=\"stroke:#000000;stroke-width:0.8;\" x=\"203.180682\" xlink:href=\"#mcf2f98fd77\" y=\"75.681818\"/>\n      </g>\n     </g>\n     <g id=\"text_18\">\n      <!-- 4 -->\n      <g transform=\"translate(189.818182 79.481037)scale(0.1 -0.1)\">\n       <use xlink:href=\"#DejaVuSans-52\"/>\n      </g>\n     </g>\n    </g>\n    <g id=\"ytick_9\">\n     <g id=\"line2d_19\">\n      <g>\n       <use style=\"stroke:#000000;stroke-width:0.8;\" x=\"203.180682\" xlink:href=\"#mcf2f98fd77\" y=\"106.118182\"/>\n      </g>\n     </g>\n     <g id=\"text_19\">\n      <!-- 6 -->\n      <g transform=\"translate(189.818182 109.917401)scale(0.1 -0.1)\">\n       <use xlink:href=\"#DejaVuSans-54\"/>\n      </g>\n     </g>\n    </g>\n    <g id=\"ytick_10\">\n     <g id=\"line2d_20\">\n      <g>\n       <use style=\"stroke:#000000;stroke-width:0.8;\" x=\"203.180682\" xlink:href=\"#mcf2f98fd77\" y=\"136.554545\"/>\n      </g>\n     </g>\n     <g id=\"text_20\">\n      <!-- 8 -->\n      <g transform=\"translate(189.818182 140.353764)scale(0.1 -0.1)\">\n       <use xlink:href=\"#DejaVuSans-56\"/>\n      </g>\n     </g>\n    </g>\n   </g>\n   <g id=\"patch_8\">\n    <path d=\"M 203.180682 159.381818 \nL 203.180682 7.2 \n\" style=\"fill:none;stroke:#000000;stroke-linecap:square;stroke-linejoin:miter;stroke-width:0.8;\"/>\n   </g>\n   <g id=\"patch_9\">\n    <path d=\"M 355.3625 159.381818 \nL 355.3625 7.2 \n\" style=\"fill:none;stroke:#000000;stroke-linecap:square;stroke-linejoin:miter;stroke-width:0.8;\"/>\n   </g>\n   <g id=\"patch_10\">\n    <path d=\"M 203.180682 159.381818 \nL 355.3625 159.381818 \n\" style=\"fill:none;stroke:#000000;stroke-linecap:square;stroke-linejoin:miter;stroke-width:0.8;\"/>\n   </g>\n   <g id=\"patch_11\">\n    <path d=\"M 203.180682 7.2 \nL 355.3625 7.2 \n\" style=\"fill:none;stroke:#000000;stroke-linecap:square;stroke-linejoin:miter;stroke-width:0.8;\"/>\n   </g>\n  </g>\n </g>\n <defs>\n  <clipPath id=\"pa13d1a7d61\">\n   <rect height=\"152.181818\" width=\"152.181818\" x=\"20.5625\" y=\"7.2\"/>\n  </clipPath>\n  <clipPath id=\"pf48c5fee45\">\n   <rect height=\"152.181818\" width=\"152.181818\" x=\"203.180682\" y=\"7.2\"/>\n  </clipPath>\n </defs>\n</svg>\n",
      "image/png": "[encoded data removed]"
     },
     "metadata": {
      "needs_background": "light"
     }
    },
    {
     "output_type": "stream",
     "name": "stdout",
     "text": [
      "TopKV2(values=<tf.Tensor: shape=(1, 3), dtype=float32, numpy=array([[0.06406763, 0.05447063, 0.05100062]], dtype=float32)>, indices=<tf.Tensor: shape=(1, 3), dtype=int32, numpy=array([[18, 48,  4]], dtype=int32)>)\n",
      "B9\n"
     ]
    }
   ],
   "source": [
    "sitRepA = [\n",
    "    [-1,0,0,-1,0,0,-1,0,-1,0], #A\n",
    "    [0,0,0,0,0,0,0,-1,0,1], #B\n",
    "    [-1,-1,0,0,-1,-1,0,0,-1,-1], #C\n",
    "    [0,0,-1,-1,0,-1,0,-1,0,-1], #D\n",
    "    [0,-1,-1,0,-1,0,-1,-1,0,0], #E\n",
    "    [-1,0,0,-1,-1,0,-1,0,-1,-1], #F\n",
    "    [0,0,0,-1,0,-1,0,0,-1,0], #G\n",
    "    [0,0,-1,0,0,-1,0,0,0,-1], #H\n",
    "    [-1,-1,0,-1,0,0,-1,-1,-1,0], #I\n",
    "    [0,0,-1,0,0,-1,-1,0,-1,0], #J\n",
    "]\n",
    "sitRepB = [\n",
    "    [0,0,0,0,0,0,0,0,0,0], #A\n",
    "    [0,0,1.0,1.0,1.0,1.0,1.0,0,0,0], #B\n",
    "    [0,0,0,0,0,0,0,0,0,0], #C\n",
    "    [0,0,0,0,0,0,0,0,0,0], #D\n",
    "    [0,0,0,0,0,0,0,0,0,0], #E\n",
    "    [0,0.6,0,0,0,0,0,0.4,0,0], #F\n",
    "    [0,0.6,0,0,0.8,0,0,0.4,0,0], #G\n",
    "    [0,0.6,0,0,0.8,0,0,0.4,0,0], #H\n",
    "    [0,0,0,0,0.8,0,0,0,0,0], #I\n",
    "    [0,0,0,0,0.8,0,0,0,0,0], #J\n",
    "]\n",
    "# sitRep = [\n",
    "#     [0,0,0,0,0,0,0,0,0,0] #A\n",
    "#     [0,0,0,0,0,0,0,0,0,0] #B\n",
    "#     [0,0,0,0,0,0,0,0,0,0] #C\n",
    "#     [0,0,0,0,0,0,0,0,0,0] #D\n",
    "#     [0,0,0,0,0,0,0,0,0,0] #E\n",
    "#     [0,0,0,0,0,0,0,0,0,0] #F\n",
    "#     [0,0,0,0,0,0,0,0,0,0] #G\n",
    "#     [0,0,0,0,0,0,0,0,0,0] #H\n",
    "#     [0,0,0,0,0,0,0,0,0,0] #I\n",
    "#     [0,0,0,0,0,0,0,0,0,0] #J\n",
    "# ]\n",
    "obs = tf.convert_to_tensor([[sitRepA, sitRepB]])\n",
    "obs = tf.transpose(obs, [0,2,3,1])\n",
    "preds = model.predict(obs)\n",
    "heatMap(preds, obs.numpy()[0])\n",
    "topK = tf.math.top_k(preds, k=3)\n",
    "print(topK)\n",
    "k = tf.argmax(preds,-1).numpy()[0]\n",
    "if k // 10 == 0:\n",
    "    print('A' + str((k % 10) + 1))\n",
    "elif k // 10 == 1:\n",
    "    print('B' + str((k % 10) + 1))\n",
    "elif k // 10 == 2:\n",
    "    print('C' + str((k % 10) + 1))\n",
    "elif k // 10 == 3:\n",
    "    print('D' + str((k % 10) + 1))\n",
    "elif k // 10 == 4:\n",
    "    print('E' + str((k % 10) + 1))\n",
    "elif k // 10 == 5:\n",
    "    print('F' + str((k % 10) + 1))\n",
    "elif k // 10 == 6:\n",
    "    print('G' + str((k % 10) + 1))\n",
    "elif k // 10 == 7:\n",
    "    print('H' + str((k % 10) + 1))\n",
    "elif k // 10 == 8:\n",
    "    print('I' + str((k % 10) + 1))\n",
    "elif k // 10 == 9:\n",
    "    print('J' + str((k % 10) + 1))"
   ]
  },
  {
   "cell_type": "code",
   "execution_count": null,
   "metadata": {},
   "outputs": [],
   "source": []
  }
 ]
}